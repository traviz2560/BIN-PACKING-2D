{
  "nbformat": 4,
  "nbformat_minor": 0,
  "metadata": {
    "colab": {
      "provenance": [],
      "include_colab_link": true
    },
    "kernelspec": {
      "name": "python3",
      "display_name": "Python 3"
    },
    "language_info": {
      "name": "python"
    }
  },
  "cells": [
    {
      "cell_type": "markdown",
      "metadata": {
        "id": "view-in-github",
        "colab_type": "text"
      },
      "source": [
        "<a href=\"https://colab.research.google.com/github/traviz2560/BIN-PCKING-2D/blob/main/BIN_PACKING_2D.ipynb\" target=\"_parent\"><img src=\"https://colab.research.google.com/assets/colab-badge.svg\" alt=\"Open In Colab\"/></a>"
      ]
    },
    {
      "cell_type": "markdown",
      "source": [
        "#LIBRERIAS"
      ],
      "metadata": {
        "id": "W4HDgvKE0k3u"
      }
    },
    {
      "cell_type": "code",
      "source": [
        "import random\n",
        "import matplotlib.pyplot as plt\n",
        "from matplotlib.patches import Rectangle\n",
        "import numpy as np\n",
        "import matplotlib.patheffects as patheffects"
      ],
      "metadata": {
        "id": "VUYAgKqf0nrC"
      },
      "execution_count": null,
      "outputs": []
    },
    {
      "cell_type": "markdown",
      "source": [
        "# GENERANDO LA DATA"
      ],
      "metadata": {
        "id": "u0irvyPQ0bn-"
      }
    },
    {
      "cell_type": "code",
      "source": [
        "#@title Clases\n",
        "class RectangleBin():\n",
        "  def __init__(self, x, y ,w, h, rot = False, color = np.random.rand(3,)):\n",
        "    self.x = x\n",
        "    self.y = y\n",
        "    self.w = w\n",
        "    self.h = h\n",
        "    self.r = rot\n",
        "    self.color = color\n",
        "    self.x2 = self.x+self.w\n",
        "    self.y2 = self.y+self.h\n",
        "    self.calcParams()\n",
        "\n",
        "  def rotate(self):\n",
        "    h = self.h\n",
        "    w = self.w\n",
        "    self.setWH(h,w)\n",
        "  \n",
        "  def moveXY(self,x2,y2):\n",
        "    self.x2 = x2\n",
        "    self.y2 = y2\n",
        "    self.x = self.x2-self.w\n",
        "    self.y = self.y2-self.h\n",
        "    self.calcParams()\n",
        "  \n",
        "  def flipX(self,dir):\n",
        "    if dir == 0:\n",
        "      self.setCoords(self.x-self.w,self.y)\n",
        "    else:\n",
        "      self.moveXY(self.x2+self.w,self.y2)\n",
        "  \n",
        "  def flipY(self,dir):\n",
        "    if dir == 0:\n",
        "      self.setCoords(self.x,self.y-self.h)\n",
        "    else:\n",
        "      self.moveXY(self.x2,self.y2+self.h)\n",
        "    \n",
        "  def calcParams(self):\n",
        "    self.xc = self.x+self.w/2\n",
        "    self.yc = self.y+self.h/2\n",
        "    self.A = self.w*self.h\n",
        "\n",
        "  def setCoords(self,x,y):\n",
        "    self.x,self.y = x,y\n",
        "    self.x2 = self.x+self.w\n",
        "    self.y2 = self.y+self.h\n",
        "    self.calcParams()\n",
        "    \n",
        "  def setWH(self,w,h):\n",
        "    self.w,self.h = w,h\n",
        "    self.x2 = self.x+self.w\n",
        "    self.y2 = self.y+self.h\n",
        "    self.calcParams()\n",
        "  \n",
        "  def setCenter(self,xc,yc):\n",
        "    self.xc = xc\n",
        "    self.yc = yc\n",
        "    self.x = self.xc-self.w/2\n",
        "    self.x2 = self.xc+self.w/2 \n",
        "    self.y = self.yc-self.h/2\n",
        "    self.y2 = self.yc+self.h/2\n",
        "  \n",
        "  def setXY(self,x2,y2):\n",
        "    self.x2 = x2\n",
        "    self.y2 = y2\n",
        "    self.w = x2-self.x\n",
        "    self.h = y2-self.y\n",
        "    self.calcParams()\n",
        " \n",
        "  def setColor(self,color):\n",
        "    self.color = color\n",
        "\n",
        "  def getWH(self):\n",
        "    return self.x,self.y,self.w,self.h\n",
        "\n",
        "  def getXY(self):\n",
        "    return self.x,self.y,self.x2,self.y2\n",
        "\n",
        "  def getArea(self):\n",
        "    return self.A\n",
        "\n",
        "  def getCenter(self):\n",
        "    return self.xc,self.yc\n",
        "  \n",
        "  def getCoords(self):\n",
        "    return self.x,self.y\n",
        "  \n",
        "  def getColor(self):\n",
        "    return self.color\n",
        "\n",
        "class PackedBin(RectangleBin):\n",
        "  def __init__(self, x, y ,w, h, rot = False):\n",
        "    RectangleBin.__init__(self, x, y ,w, h, rot, color = np.random.rand(3,))\n",
        "\n",
        "class Container(RectangleBin):\n",
        "  def __init__(self,h):\n",
        "    RectangleBin.__init__(self,0,0,0,h)\n",
        "    self.listBins = []\n",
        "\n",
        "  def addBin(self,bin):\n",
        "    self.listBins.append(bin)\n",
        "    self.calc()\n",
        "  \n",
        "  def addListBins(self,listBins):\n",
        "    self.listBins += listBins\n",
        "    self.calc()\n",
        "  \n",
        "  def getListBins(self):\n",
        "    listbins = []\n",
        "    for bin in self.listBins:\n",
        "      bin2 = PackedBin(*bin.getWH(),bin.r)\n",
        "      bin2.setColor(bin.color)\n",
        "      listbins.append(bin2)\n",
        "    return listbins.copy()\n",
        "  \n",
        "  def setListBins(self,listBins):\n",
        "    self.listBins = listBins\n",
        "    self.calc()\n",
        "\n",
        "  def popListBins(self,n=-1):\n",
        "    self.listBins.pop(n)\n",
        "  \n",
        "  def ScoreArea(self):\n",
        "    Atotal = self.getArea()\n",
        "    Abins = 0\n",
        "    for bin in self.listBins:\n",
        "      Abins += bin.getArea()\n",
        "    \n",
        "    score = Atotal-Abins\n",
        "    if Atotal != 0:\n",
        "      percent = round(Abins/Atotal*100,2)\n",
        "    else:\n",
        "      percent = 0\n",
        "\n",
        "    return score,percent\n",
        "  \n",
        "  def calc(self):\n",
        "    xList = []\n",
        "\n",
        "    for bin in self.listBins:\n",
        "      x1,y1,x2,y2 = bin.getXY()\n",
        "      xList += [x1,x2]\n",
        "\n",
        "    xmax = max(xList)\n",
        "\n",
        "    self.setWH(xmax,self.h)\n",
        "\n",
        "  def limits(self,bin):\n",
        "    b1 = bin\n",
        "    if b1.y2 > self.y2:\n",
        "      b1.moveXY(b1.x2,self.y2)\n",
        "    if b1.y < self.y:\n",
        "      b1.setCoords(b1.x,self.y)\n",
        "    if b1.x < self.x:\n",
        "      b1.setCoords(self.x,b1.y)\n",
        "\n",
        "  def CorrectCollision(self):\n",
        "    total = len(self.listBins)\n",
        "\n",
        "    xcoord = []\n",
        "    for bin in self.listBins:\n",
        "      xcoord.append(bin.x)\n",
        "    \n",
        "    xindex = [x for _,x in sorted(zip(xcoord,list(range(total))))]\n",
        "\n",
        "    for i in xindex:\n",
        "      for j in xindex:\n",
        "        if i != j:\n",
        "          b1 = self.listBins[i]\n",
        "          b2 = self.listBins[j]\n",
        "\n",
        "          collision = b1.x < b2.x2 and b1.x2 > b2.x and b1.y < b2.y2 and b1.y2 > b2.y\n",
        "          if collision:\n",
        "            if abs(b2.xc-b1.xc)<abs(b2.yc-b1.yc) and b1.y2+b2.h < self.y2:\n",
        "              b2.setCoords(b2.x,b1.y2)\n",
        "            else:\n",
        "              b2.setCoords(b1.x2,b2.y)\n",
        "              \n",
        "\n",
        "  \n",
        "  def actions(self, n1, n2, rot1,rot2):\n",
        "    #dir : direciones a mover (0,1,2,3) arriba abajo der izq\n",
        "    #rot : rotar(0,1)\n",
        "\n",
        "    b1 = self.listBins[n1]\n",
        "    b2 = self.listBins[n2]\n",
        "\n",
        "    if rot1 == 1:\n",
        "      b1.rotate()\n",
        "    \n",
        "    if rot2 == 1:\n",
        "      b2.rotate()\n",
        "    \n",
        "    xc1,yc1 = b1.getCenter()\n",
        "    xc2,yc2 = b2.getCenter()\n",
        "\n",
        "    b1.setCenter(xc2,yc2)\n",
        "    b2.setCenter(xc1,yc1) \n",
        "\n",
        "    gx = 20\n",
        "    gy = 20\n",
        "\n",
        "    for i in range(5):\n",
        "      for bin in self.listBins:\n",
        "        bin.setCoords(bin.x-gx,bin.y-gy)\n",
        "        self.limits(bin)\n",
        "    self.CorrectCollision()\n",
        "    self.CorrectCollision()\n",
        "    self.calc()\n",
        "  \n",
        "  def plotBins(self):\n",
        "    fig = plt.figure(dpi = 150)\n",
        "    ax = fig.add_subplot(111)\n",
        "    ax.clear()\n",
        "    self.calc()\n",
        "\n",
        "    score, perc = self.ScoreArea()\n",
        "    ax.set_title(f\"SCORE:  [{score}]   USED SPACE:  [{perc}%]    WASTED SPACE: [{100-perc}%]\",fontsize = 5)\n",
        "\n",
        "    n=1\n",
        "    for bin in self.listBins:\n",
        "      x,y,w,h = bin.getWH()\n",
        "      xc,yc = bin.getCenter()\n",
        "\n",
        "      r = Rectangle((x, y), w, h, color = bin.getColor())\n",
        "      ax.add_patch(r)\n",
        "      ax.text(xc,yc,\"U#\"+str(n),horizontalalignment='center',verticalalignment=\"center\",fontsize = 4,\n",
        "              path_effects=[patheffects.withStroke(linewidth=2, foreground='white', capstyle=\"round\")])\n",
        "      n += 1\n",
        "\n",
        "    plt.xlim([self.x, self.x2])\n",
        "    plt.ylim([self.y, self.y2])\n",
        "    plt.axis('scaled')\n",
        "    plt.show()\n"
      ],
      "metadata": {
        "id": "tMCzgV6SiCqe"
      },
      "execution_count": null,
      "outputs": []
    },
    {
      "cell_type": "code",
      "source": [
        "#@title\n",
        "\n",
        "num_rectangles = 20 #@param {type:\"integer\"}\n",
        "max_height = 50 #@param {type:\"integer\"}\n",
        "max_width = 50 #@param {type:\"integer\"}\n",
        "container_height = 100 #@param {type:\"integer\"}\n",
        "rotatable = True #@param {type:\"boolean\"}\n",
        "\n",
        "x = 0\n",
        "cont = Container(container_height)\n",
        "for _ in range(num_rectangles):\n",
        "  height = random.randint(1,max_height)\n",
        "  width = random.randint(1,max_width)\n",
        "  y = random.randint(1,max_width)\n",
        "  rect = PackedBin(x,y,width,height,rotatable)\n",
        "  x +=  width\n",
        "  cont.addBin(rect)\n",
        "\n",
        "cont.plotBins()"
      ],
      "metadata": {
        "id": "AWib5f3cztBj",
        "colab": {
          "base_uri": "https://localhost:8080/",
          "height": 219
        },
        "outputId": "63e9caab-5d13-4816-ef67-38aaee121577",
        "cellView": "form"
      },
      "execution_count": null,
      "outputs": [
        {
          "output_type": "display_data",
          "data": {
            "text/plain": [
              "<Figure size 900x600 with 1 Axes>"
            ],
            "image/png": "[encoded data removed]"
          },
          "metadata": {
            "needs_background": "light"
          }
        }
      ]
    },
    {
      "cell_type": "markdown",
      "source": [
        "#BUSQUEDA TABU"
      ],
      "metadata": {
        "id": "bqK1lDYvG_wH"
      }
    },
    {
      "cell_type": "code",
      "source": [
        "def tabu_search(n_iter, container):\n",
        "  t_wait  = 3\n",
        "  c_aspi  = 5\n",
        "  top     = 4\n",
        "  n_chang = 6  \n",
        "  sol_ini = container.getListBins()\n",
        "\n",
        "  _,_,_,h = container.getWH()\n",
        "  cont = Container(h)\n",
        "  cont.addListBins(sol_ini)\n",
        "\n",
        "  mat_tabu = np.zeros((len(sol_ini), len(sol_ini)))\n",
        "\n",
        "  best_score,_ = cont.ScoreArea()\n",
        "  bestcont = cont\n",
        "\n",
        "  for _ in range(n_iter):\n",
        "      lst_sol = []\n",
        "\n",
        "      for _ in range(n_chang):\n",
        "        n1, n2 = np.random.randint(len(sol_ini), size = [2])\n",
        "        rot1 = np.random.randint(2)\n",
        "        rot2 = np.random.randint(2)\n",
        "        cont.actions(n1,n2,rot1,rot2)\n",
        "        score,_ = cont.ScoreArea()\n",
        "        sol = cont.getListBins()\n",
        "        lst_sol.append((score,sol,(n1,n2)))\n",
        "\n",
        "      #lst_sol.sort(key = lambda x: x[0])\n",
        "      lst_sol = lst_sol[::-1] \n",
        "\n",
        "      for i in range(top):\n",
        "        n1,n2 = lst_sol[i][2]\n",
        "        if mat_tabu[n1, n2] == 0:\n",
        "          mat_tabu[n1, n2] = t_wait\n",
        "          mat_tabu[n2, n1] += 1\n",
        "          break\n",
        "        else:\n",
        "          if lst_sol[i][0] - lst_sol[i+1][0] >= c_aspi:\n",
        "            mat_tabu[n1, n2] = 0\n",
        "            mat_tabu[n2, n1] += 1\n",
        "            break\n",
        "      \n",
        "      if lst_sol[i][0]<best_score:\n",
        "        best_score = lst_sol[i][0]\n",
        "        bestcont = Container(h)\n",
        "        bestcont.addListBins(lst_sol[i][1])\n",
        "  return best_score, bestcont"
      ],
      "metadata": {
        "id": "OFuffgxJNVoW"
      },
      "execution_count": null,
      "outputs": []
    },
    {
      "cell_type": "code",
      "source": [
        "score, cont3 = tabu_search(300,cont)\n",
        "cont3.plotBins()"
      ],
      "metadata": {
        "colab": {
          "base_uri": "https://localhost:8080/",
          "height": 432
        },
        "id": "jOd1OnoRBHu2",
        "outputId": "ef58d163-b300-465d-888f-f36f6341b739"
      },
      "execution_count": null,
      "outputs": [
        {
          "output_type": "display_data",
          "data": {
            "text/plain": [
              "<Figure size 900x600 with 1 Axes>"
            ],
            "image/png": "[encoded data removed]"
          },
          "metadata": {
            "needs_background": "light"
          }
        }
      ]
    }
  ]
}